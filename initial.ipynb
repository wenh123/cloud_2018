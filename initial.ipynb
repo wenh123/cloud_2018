{
  "nbformat": 4,
  "nbformat_minor": 0,
  "metadata": {
    "colab": {
      "name": "initial.ipynb",
      "version": "0.3.2",
      "views": {},
      "default_view": {},
      "provenance": []
    },
    "kernelspec": {
      "name": "python3",
      "display_name": "Python 3"
    },
    "accelerator": "GPU"
  },
  "cells": [
    {
      "metadata": {
        "id": "pQUp_w51ERwq",
        "colab_type": "code",
        "colab": {
          "autoexec": {
            "startup": false,
            "wait_interval": 0
          },
          "output_extras": [
            {
              "item_id": 16
            },
            {
              "item_id": 26
            }
          ],
          "base_uri": "https://localhost:8080/",
          "height": 2072
        },
        "outputId": "d12aa3cb-7703-4be5-ee7e-ab58e093f2f2",
        "executionInfo": {
          "status": "ok",
          "timestamp": 1521426245587,
          "user_tz": -480,
          "elapsed": 10656,
          "user": {
            "displayName": "Huang Wenchen",
            "photoUrl": "https://lh3.googleusercontent.com/a/default-user=s128",
            "userId": "111410864166566797989"
          }
        }
      },
      "cell_type": "code",
      "source": [
        "!apt-get install -y -qq software-properties-common python-software-properties module-init-tools"
      ],
      "execution_count": 1,
      "outputs": [
        {
          "output_type": "stream",
          "text": [
            "Preconfiguring packages ...\n",
            "Selecting previously unselected package cron.\n",
            "(Reading database ... 16712 files and directories currently installed.)\n",
            "Preparing to unpack .../00-cron_3.0pl1-128ubuntu5_amd64.deb ...\n",
            "Unpacking cron (3.0pl1-128ubuntu5) ...\n",
            "Selecting previously unselected package libapparmor1:amd64.\n",
            "Preparing to unpack .../01-libapparmor1_2.11.0-2ubuntu17.1_amd64.deb ...\n",
            "Unpacking libapparmor1:amd64 (2.11.0-2ubuntu17.1) ...\n",
            "Selecting previously unselected package libdbus-1-3:amd64.\n",
            "Preparing to unpack .../02-libdbus-1-3_1.10.22-1ubuntu1_amd64.deb ...\n",
            "Unpacking libdbus-1-3:amd64 (1.10.22-1ubuntu1) ...\n",
            "Selecting previously unselected package dbus.\n",
            "Preparing to unpack .../03-dbus_1.10.22-1ubuntu1_amd64.deb ...\n",
            "Unpacking dbus (1.10.22-1ubuntu1) ...\n",
            "Selecting previously unselected package dirmngr.\n",
            "Preparing to unpack .../04-dirmngr_2.1.15-1ubuntu8_amd64.deb ...\n",
            "Unpacking dirmngr (2.1.15-1ubuntu8) ...\n",
            "Selecting previously unselected package distro-info-data.\n",
            "Preparing to unpack .../05-distro-info-data_0.36ubuntu0.1_all.deb ...\n",
            "Unpacking distro-info-data (0.36ubuntu0.1) ...\n",
            "Selecting previously unselected package libkmod2:amd64.\n",
            "Preparing to unpack .../06-libkmod2_24-1ubuntu2_amd64.deb ...\n",
            "Unpacking libkmod2:amd64 (24-1ubuntu2) ...\n",
            "Selecting previously unselected package kmod.\n",
            "Preparing to unpack .../07-kmod_24-1ubuntu2_amd64.deb ...\n",
            "Unpacking kmod (24-1ubuntu2) ...\n",
            "Selecting previously unselected package lsb-release.\n",
            "Preparing to unpack .../08-lsb-release_9.20160110ubuntu5_all.deb ...\n",
            "Unpacking lsb-release (9.20160110ubuntu5) ...\n",
            "Selecting previously unselected package libgirepository-1.0-1:amd64.\n",
            "Preparing to unpack .../09-libgirepository-1.0-1_1.54.1-1_amd64.deb ...\n",
            "Unpacking libgirepository-1.0-1:amd64 (1.54.1-1) ...\n",
            "Selecting previously unselected package gir1.2-glib-2.0:amd64.\n",
            "Preparing to unpack .../10-gir1.2-glib-2.0_1.54.1-1_amd64.deb ...\n",
            "Unpacking gir1.2-glib-2.0:amd64 (1.54.1-1) ...\n",
            "Selecting previously unselected package iso-codes.\n",
            "Preparing to unpack .../11-iso-codes_3.75-1_all.deb ...\n",
            "Unpacking iso-codes (3.75-1) ...\n",
            "Selecting previously unselected package libdbus-glib-1-2:amd64.\n",
            "Preparing to unpack .../12-libdbus-glib-1-2_0.108-2_amd64.deb ...\n",
            "Unpacking libdbus-glib-1-2:amd64 (0.108-2) ...\n",
            "Selecting previously unselected package python-apt-common.\n",
            "Preparing to unpack .../13-python-apt-common_1.4.0~beta3build2_all.deb ...\n",
            "Unpacking python-apt-common (1.4.0~beta3build2) ...\n",
            "Selecting previously unselected package python3-apt.\n",
            "Preparing to unpack .../14-python3-apt_1.4.0~beta3build2_amd64.deb ...\n",
            "Unpacking python3-apt (1.4.0~beta3build2) ...\n",
            "Selecting previously unselected package python3-dbus.\n",
            "Preparing to unpack .../15-python3-dbus_1.2.4-1build3_amd64.deb ...\n",
            "Unpacking python3-dbus (1.2.4-1build3) ...\n",
            "Selecting previously unselected package python3-gi.\n",
            "Preparing to unpack .../16-python3-gi_3.24.1-2build1_amd64.deb ...\n",
            "Unpacking python3-gi (3.24.1-2build1) ...\n",
            "Selecting previously unselected package module-init-tools.\n",
            "Preparing to unpack .../17-module-init-tools_24-1ubuntu2_all.deb ...\n",
            "Unpacking module-init-tools (24-1ubuntu2) ...\n",
            "Selecting previously unselected package python-apt.\n",
            "Preparing to unpack .../18-python-apt_1.4.0~beta3build2_amd64.deb ...\n",
            "Unpacking python-apt (1.4.0~beta3build2) ...\n",
            "Selecting previously unselected package python-pycurl.\n",
            "Preparing to unpack .../19-python-pycurl_7.43.0-2build2_amd64.deb ...\n",
            "Unpacking python-pycurl (7.43.0-2build2) ...\n",
            "Selecting previously unselected package python-software-properties.\n",
            "Preparing to unpack .../20-python-software-properties_0.96.24.17_all.deb ...\n",
            "Unpacking python-software-properties (0.96.24.17) ...\n",
            "Selecting previously unselected package python3-software-properties.\n",
            "Preparing to unpack .../21-python3-software-properties_0.96.24.17_all.deb ...\n",
            "Unpacking python3-software-properties (0.96.24.17) ...\n",
            "Selecting previously unselected package software-properties-common.\n",
            "Preparing to unpack .../22-software-properties-common_0.96.24.17_all.deb ...\n",
            "Unpacking software-properties-common (0.96.24.17) ...\n",
            "Selecting previously unselected package unattended-upgrades.\n",
            "Preparing to unpack .../23-unattended-upgrades_0.98ubuntu1.1_all.deb ...\n",
            "Unpacking unattended-upgrades (0.98ubuntu1.1) ...\n",
            "Setting up python-apt-common (1.4.0~beta3build2) ...\n",
            "Setting up python3-apt (1.4.0~beta3build2) ...\n",
            "Setting up iso-codes (3.75-1) ...\n",
            "Setting up distro-info-data (0.36ubuntu0.1) ...\n",
            "Setting up python-pycurl (7.43.0-2build2) ...\n",
            "Setting up lsb-release (9.20160110ubuntu5) ...\n",
            "Setting up libgirepository-1.0-1:amd64 (1.54.1-1) ...\n",
            "Setting up libkmod2:amd64 (24-1ubuntu2) ...\n",
            "Setting up gir1.2-glib-2.0:amd64 (1.54.1-1) ...\n",
            "Processing triggers for libc-bin (2.26-0ubuntu2.1) ...\n",
            "Setting up libapparmor1:amd64 (2.11.0-2ubuntu17.1) ...\n",
            "Setting up unattended-upgrades (0.98ubuntu1.1) ...\n",
            "\n",
            "Creating config file /etc/apt/apt.conf.d/20auto-upgrades with new version\n",
            "\n",
            "Creating config file /etc/apt/apt.conf.d/50unattended-upgrades with new version\n",
            "invoke-rc.d: could not determine current runlevel\n",
            "invoke-rc.d: policy-rc.d denied execution of start.\n",
            "Setting up dirmngr (2.1.15-1ubuntu8) ...\n",
            "Setting up cron (3.0pl1-128ubuntu5) ...\n"
          ],
          "name": "stdout"
        },
        {
          "output_type": "stream",
          "text": [
            "Adding group `crontab' (GID 102) ...\r\n",
            "Done.\n",
            "update-rc.d: warning: start and stop actions are no longer supported; falling back to defaults\n",
            "update-rc.d: warning: stop runlevel arguments (1) do not match cron Default-Stop values (none)\n",
            "invoke-rc.d: could not determine current runlevel\n",
            "invoke-rc.d: policy-rc.d denied execution of start.\n",
            "Setting up libdbus-1-3:amd64 (1.10.22-1ubuntu1) ...\n",
            "Setting up kmod (24-1ubuntu2) ...\n",
            "Setting up libdbus-glib-1-2:amd64 (0.108-2) ...\n",
            "Setting up python3-gi (3.24.1-2build1) ...\n",
            "Setting up module-init-tools (24-1ubuntu2) ...\n",
            "Setting up python3-software-properties (0.96.24.17) ...\n",
            "Setting up dbus (1.10.22-1ubuntu1) ...\n",
            "Setting up python-apt (1.4.0~beta3build2) ...\n",
            "Setting up python3-dbus (1.2.4-1build3) ...\n",
            "Setting up python-software-properties (0.96.24.17) ...\n",
            "Setting up software-properties-common (0.96.24.17) ...\n",
            "Processing triggers for libc-bin (2.26-0ubuntu2.1) ...\n",
            "Processing triggers for dbus (1.10.22-1ubuntu1) ...\n"
          ],
          "name": "stdout"
        }
      ]
    },
    {
      "metadata": {
        "id": "1I9SGiZpEeYP",
        "colab_type": "code",
        "colab": {
          "autoexec": {
            "startup": false,
            "wait_interval": 0
          },
          "output_extras": [
            {
              "item_id": 4
            }
          ],
          "base_uri": "https://localhost:8080/",
          "height": 126
        },
        "outputId": "7457d0ad-ec05-44c3-d0d0-3415268297e0",
        "executionInfo": {
          "status": "ok",
          "timestamp": 1521426268481,
          "user_tz": -480,
          "elapsed": 5809,
          "user": {
            "displayName": "Huang Wenchen",
            "photoUrl": "https://lh3.googleusercontent.com/a/default-user=s128",
            "userId": "111410864166566797989"
          }
        }
      },
      "cell_type": "code",
      "source": [
        "!add-apt-repository -y ppa:alessandro-strada/ppa 2>&1 > /dev/null"
      ],
      "execution_count": 2,
      "outputs": [
        {
          "output_type": "stream",
          "text": [
            "gpg: keybox '/tmp/tmpl_hqp284/pubring.gpg' created\n",
            "gpg: /tmp/tmpl_hqp284/trustdb.gpg: trustdb created\n",
            "gpg: key AD5F235DF639B041: public key \"Launchpad PPA for Alessandro Strada\" imported\n",
            "gpg: Total number processed: 1\n",
            "gpg:               imported: 1\n",
            "Warning: apt-key output should not be parsed (stdout is not a terminal)\n"
          ],
          "name": "stdout"
        }
      ]
    },
    {
      "metadata": {
        "id": "g5bAr7PjEmpO",
        "colab_type": "code",
        "colab": {
          "autoexec": {
            "startup": false,
            "wait_interval": 0
          }
        }
      },
      "cell_type": "code",
      "source": [
        "!apt-get update -qq 2>&1 > /dev/null"
      ],
      "execution_count": 0,
      "outputs": []
    },
    {
      "metadata": {
        "id": "cPJRJNzIEuKv",
        "colab_type": "code",
        "colab": {
          "autoexec": {
            "startup": false,
            "wait_interval": 0
          },
          "output_extras": [
            {
              "item_id": 3
            }
          ],
          "base_uri": "https://localhost:8080/",
          "height": 272
        },
        "outputId": "a62ea7f3-36d4-4f14-9727-32765a63d206",
        "executionInfo": {
          "status": "ok",
          "timestamp": 1521426314111,
          "user_tz": -480,
          "elapsed": 3920,
          "user": {
            "displayName": "Huang Wenchen",
            "photoUrl": "https://lh3.googleusercontent.com/a/default-user=s128",
            "userId": "111410864166566797989"
          }
        }
      },
      "cell_type": "code",
      "source": [
        "!apt-get -y install -qq google-drive-ocamlfuse fuse"
      ],
      "execution_count": 4,
      "outputs": [
        {
          "output_type": "stream",
          "text": [
            "Selecting previously unselected package libfuse2:amd64.\r\n",
            "(Reading database ... \r(Reading database ... 5%\r(Reading database ... 10%\r(Reading database ... 15%\r(Reading database ... 20%\r(Reading database ... 25%\r(Reading database ... 30%\r(Reading database ... 35%\r(Reading database ... 40%\r(Reading database ... 45%\r(Reading database ... 50%\r(Reading database ... 55%\r(Reading database ... 60%\r(Reading database ... 65%\r(Reading database ... 70%\r(Reading database ... 75%\r(Reading database ... 80%\r(Reading database ... 85%\r(Reading database ... 90%\r(Reading database ... 95%\r(Reading database ... 100%\r(Reading database ... 18120 files and directories currently installed.)\r\n",
            "Preparing to unpack .../libfuse2_2.9.7-1ubuntu1_amd64.deb ...\r\n",
            "Unpacking libfuse2:amd64 (2.9.7-1ubuntu1) ...\n",
            "Selecting previously unselected package fuse.\n",
            "Preparing to unpack .../fuse_2.9.7-1ubuntu1_amd64.deb ...\n",
            "Unpacking fuse (2.9.7-1ubuntu1) ...\n",
            "Selecting previously unselected package google-drive-ocamlfuse.\n",
            "Preparing to unpack .../google-drive-ocamlfuse_0.6.21-0ubuntu2_amd64.deb ...\n",
            "Unpacking google-drive-ocamlfuse (0.6.21-0ubuntu2) ...\n",
            "Setting up libfuse2:amd64 (2.9.7-1ubuntu1) ...\n",
            "Processing triggers for libc-bin (2.26-0ubuntu2.1) ...\n",
            "Setting up fuse (2.9.7-1ubuntu1) ...\n",
            "Setting up google-drive-ocamlfuse (0.6.21-0ubuntu2) ...\n"
          ],
          "name": "stdout"
        }
      ]
    },
    {
      "metadata": {
        "id": "EOdrW5quEyPt",
        "colab_type": "code",
        "colab": {
          "autoexec": {
            "startup": false,
            "wait_interval": 0
          }
        }
      },
      "cell_type": "code",
      "source": [
        "from google.colab import auth"
      ],
      "execution_count": 0,
      "outputs": []
    },
    {
      "metadata": {
        "id": "ZOwEUf_jE2wN",
        "colab_type": "code",
        "colab": {
          "autoexec": {
            "startup": false,
            "wait_interval": 0
          }
        }
      },
      "cell_type": "code",
      "source": [
        "auth.authenticate_user()"
      ],
      "execution_count": 0,
      "outputs": []
    },
    {
      "metadata": {
        "id": "oNMT942rE5sd",
        "colab_type": "code",
        "colab": {
          "autoexec": {
            "startup": false,
            "wait_interval": 0
          }
        }
      },
      "cell_type": "code",
      "source": [
        "from oauth2client.client import GoogleCredentials"
      ],
      "execution_count": 0,
      "outputs": []
    },
    {
      "metadata": {
        "id": "hpAngVEwFGkt",
        "colab_type": "code",
        "colab": {
          "autoexec": {
            "startup": false,
            "wait_interval": 0
          }
        }
      },
      "cell_type": "code",
      "source": [
        "creds = GoogleCredentials.get_application_default()"
      ],
      "execution_count": 0,
      "outputs": []
    },
    {
      "metadata": {
        "id": "wi7UrL_zFJre",
        "colab_type": "code",
        "colab": {
          "autoexec": {
            "startup": false,
            "wait_interval": 0
          }
        }
      },
      "cell_type": "code",
      "source": [
        "import getpass"
      ],
      "execution_count": 0,
      "outputs": []
    },
    {
      "metadata": {
        "id": "QqQkroXyFMeO",
        "colab_type": "code",
        "colab": {
          "autoexec": {
            "startup": false,
            "wait_interval": 0
          },
          "output_extras": [
            {
              "item_id": 1
            }
          ],
          "base_uri": "https://localhost:8080/",
          "height": 55
        },
        "outputId": "19558cbd-8e86-4c31-feee-eb232ea29ad2",
        "executionInfo": {
          "status": "ok",
          "timestamp": 1521426440750,
          "user_tz": -480,
          "elapsed": 959,
          "user": {
            "displayName": "Huang Wenchen",
            "photoUrl": "https://lh3.googleusercontent.com/a/default-user=s128",
            "userId": "111410864166566797989"
          }
        }
      },
      "cell_type": "code",
      "source": [
        "!google-drive-ocamlfuse -headless -id={creds.client_id} -secret={creds.client_secret} < /dev/null 2>&1 | grep URL"
      ],
      "execution_count": 10,
      "outputs": [
        {
          "output_type": "stream",
          "text": [
            "Please, open the following URL in a web browser: https://accounts.google.com/o/oauth2/auth?client_id=32555940559.apps.googleusercontent.com&redirect_uri=urn%3Aietf%3Awg%3Aoauth%3A2.0%3Aoob&scope=https%3A%2F%2Fwww.googleapis.com%2Fauth%2Fdrive&response_type=code&access_type=offline&approval_prompt=force\r\n"
          ],
          "name": "stdout"
        }
      ]
    },
    {
      "metadata": {
        "id": "DnwlctjQFR4d",
        "colab_type": "code",
        "colab": {
          "autoexec": {
            "startup": false,
            "wait_interval": 0
          },
          "output_extras": [
            {
              "item_id": 1
            }
          ],
          "base_uri": "https://localhost:8080/",
          "height": 35
        },
        "outputId": "d806805a-6105-4114-e9f8-e6591d53ed72",
        "executionInfo": {
          "status": "ok",
          "timestamp": 1521426504978,
          "user_tz": -480,
          "elapsed": 24610,
          "user": {
            "displayName": "Huang Wenchen",
            "photoUrl": "https://lh3.googleusercontent.com/a/default-user=s128",
            "userId": "111410864166566797989"
          }
        }
      },
      "cell_type": "code",
      "source": [
        "vcode = getpass.getpass()"
      ],
      "execution_count": 11,
      "outputs": [
        {
          "output_type": "stream",
          "text": [
            "··········\n"
          ],
          "name": "stdout"
        }
      ]
    },
    {
      "metadata": {
        "id": "eABp0cxUFbyu",
        "colab_type": "code",
        "colab": {
          "autoexec": {
            "startup": false,
            "wait_interval": 0
          },
          "output_extras": [
            {
              "item_id": 1
            }
          ],
          "base_uri": "https://localhost:8080/",
          "height": 73
        },
        "outputId": "1ea88b3c-3d11-4848-f90c-30320f33b381",
        "executionInfo": {
          "status": "ok",
          "timestamp": 1521426524710,
          "user_tz": -480,
          "elapsed": 797,
          "user": {
            "displayName": "Huang Wenchen",
            "photoUrl": "https://lh3.googleusercontent.com/a/default-user=s128",
            "userId": "111410864166566797989"
          }
        }
      },
      "cell_type": "code",
      "source": [
        "!echo {vcode} | google-drive-ocamlfuse -headless -id={creds.client_id} -secret={creds.client_secret}"
      ],
      "execution_count": 12,
      "outputs": [
        {
          "output_type": "stream",
          "text": [
            "Please, open the following URL in a web browser: https://accounts.google.com/o/oauth2/auth?client_id=32555940559.apps.googleusercontent.com&redirect_uri=urn%3Aietf%3Awg%3Aoauth%3A2.0%3Aoob&scope=https%3A%2F%2Fwww.googleapis.com%2Fauth%2Fdrive&response_type=code&access_type=offline&approval_prompt=force\n",
            "Please enter the verification code: Access token retrieved correctly.\n"
          ],
          "name": "stdout"
        }
      ]
    },
    {
      "metadata": {
        "id": "-sTUxECaFma-",
        "colab_type": "code",
        "colab": {
          "autoexec": {
            "startup": false,
            "wait_interval": 0
          }
        }
      },
      "cell_type": "code",
      "source": [
        "!mkdir -p drive"
      ],
      "execution_count": 0,
      "outputs": []
    },
    {
      "metadata": {
        "id": "7BEmbJOiJlhQ",
        "colab_type": "code",
        "colab": {
          "autoexec": {
            "startup": false,
            "wait_interval": 0
          }
        }
      },
      "cell_type": "code",
      "source": [
        "!google-drive-ocamlfuse drive"
      ],
      "execution_count": 0,
      "outputs": []
    },
    {
      "metadata": {
        "id": "8GLPnndQJpmu",
        "colab_type": "code",
        "colab": {
          "autoexec": {
            "startup": false,
            "wait_interval": 0
          }
        }
      },
      "cell_type": "code",
      "source": [
        "!pip install -q keras"
      ],
      "execution_count": 0,
      "outputs": []
    },
    {
      "metadata": {
        "id": "JnVkA4_RJt6w",
        "colab_type": "code",
        "colab": {
          "autoexec": {
            "startup": false,
            "wait_interval": 0
          },
          "output_extras": [
            {
              "item_id": 1
            }
          ],
          "base_uri": "https://localhost:8080/",
          "height": 90
        },
        "outputId": "32466105-925b-4959-8ed5-9e7def8ce1b2",
        "executionInfo": {
          "status": "ok",
          "timestamp": 1521427807546,
          "user_tz": -480,
          "elapsed": 2083,
          "user": {
            "displayName": "Huang Wenchen",
            "photoUrl": "https://lh3.googleusercontent.com/a/default-user=s128",
            "userId": "111410864166566797989"
          }
        }
      },
      "cell_type": "code",
      "source": [
        "!python3 drive/mnist_cnn.py"
      ],
      "execution_count": 16,
      "outputs": [
        {
          "output_type": "stream",
          "text": [
            "  File \"drive/mnist_cnn.py\", line 7\r\n",
            "    <!DOCTYPE html>\r\n",
            "    ^\r\n",
            "SyntaxError: invalid syntax\r\n"
          ],
          "name": "stdout"
        }
      ]
    },
    {
      "metadata": {
        "id": "vdevqCsaLLGZ",
        "colab_type": "code",
        "colab": {
          "autoexec": {
            "startup": false,
            "wait_interval": 0
          },
          "output_extras": [
            {
              "item_id": 1
            }
          ],
          "base_uri": "https://localhost:8080/",
          "height": 90
        },
        "outputId": "c6066547-6f72-42c5-a343-e384bbeb6ebd",
        "executionInfo": {
          "status": "ok",
          "timestamp": 1521428009907,
          "user_tz": -480,
          "elapsed": 866,
          "user": {
            "displayName": "Huang Wenchen",
            "photoUrl": "https://lh3.googleusercontent.com/a/default-user=s128",
            "userId": "111410864166566797989"
          }
        }
      },
      "cell_type": "code",
      "source": [
        "!python3 drive/mnist_cnn.py"
      ],
      "execution_count": 18,
      "outputs": [
        {
          "output_type": "stream",
          "text": [
            "  File \"drive/mnist_cnn.py\", line 7\r\n",
            "    <!DOCTYPE html>\r\n",
            "    ^\r\n",
            "SyntaxError: invalid syntax\r\n"
          ],
          "name": "stdout"
        }
      ]
    },
    {
      "metadata": {
        "id": "2I06ax0-LOcI",
        "colab_type": "code",
        "colab": {
          "autoexec": {
            "startup": false,
            "wait_interval": 0
          },
          "output_extras": [
            {
              "item_id": 1
            }
          ],
          "base_uri": "https://localhost:8080/",
          "height": 35
        },
        "outputId": "222acd6c-a171-4cdb-a6ee-69a08104af8e",
        "executionInfo": {
          "status": "ok",
          "timestamp": 1521428081777,
          "user_tz": -480,
          "elapsed": 775,
          "user": {
            "displayName": "Huang Wenchen",
            "photoUrl": "https://lh3.googleusercontent.com/a/default-user=s128",
            "userId": "111410864166566797989"
          }
        }
      },
      "cell_type": "code",
      "source": [
        "!18"
      ],
      "execution_count": 19,
      "outputs": [
        {
          "output_type": "stream",
          "text": [
            "/bin/sh: 1: 18: not found\r\n"
          ],
          "name": "stdout"
        }
      ]
    },
    {
      "metadata": {
        "id": "67g_bGybLike",
        "colab_type": "code",
        "colab": {
          "autoexec": {
            "startup": false,
            "wait_interval": 0
          },
          "output_extras": [
            {
              "item_id": 1
            }
          ],
          "base_uri": "https://localhost:8080/",
          "height": 90
        },
        "outputId": "dacdfcab-2f64-4d37-ac0e-be7e4c87111d",
        "executionInfo": {
          "status": "ok",
          "timestamp": 1521428112082,
          "user_tz": -480,
          "elapsed": 1318,
          "user": {
            "displayName": "Huang Wenchen",
            "photoUrl": "https://lh3.googleusercontent.com/a/default-user=s128",
            "userId": "111410864166566797989"
          }
        }
      },
      "cell_type": "code",
      "source": [
        "!python3 drive/mnist_cnn.py"
      ],
      "execution_count": 20,
      "outputs": [
        {
          "output_type": "stream",
          "text": [
            "  File \"drive/mnist_cnn.py\", line 7\r\n",
            "    <!DOCTYPE html>\r\n",
            "    ^\r\n",
            "SyntaxError: invalid syntax\r\n"
          ],
          "name": "stdout"
        }
      ]
    },
    {
      "metadata": {
        "id": "8QsgRHJzLp1f",
        "colab_type": "code",
        "colab": {
          "autoexec": {
            "startup": false,
            "wait_interval": 0
          },
          "output_extras": [
            {
              "item_id": 1
            }
          ],
          "base_uri": "https://localhost:8080/",
          "height": 35
        },
        "outputId": "e1c2829a-f4b3-4d43-e5c7-e2f13fb1936a",
        "executionInfo": {
          "status": "ok",
          "timestamp": 1521428239484,
          "user_tz": -480,
          "elapsed": 1470,
          "user": {
            "displayName": "Huang Wenchen",
            "photoUrl": "https://lh3.googleusercontent.com/a/default-user=s128",
            "userId": "111410864166566797989"
          }
        }
      },
      "cell_type": "code",
      "source": [
        "!ls drive"
      ],
      "execution_count": 21,
      "outputs": [
        {
          "output_type": "stream",
          "text": [
            "mnist_cnn.py  udemy_kubernetes_devops.pdf\r\n"
          ],
          "name": "stdout"
        }
      ]
    },
    {
      "metadata": {
        "id": "ZvQmPOlDMI5v",
        "colab_type": "code",
        "colab": {
          "autoexec": {
            "startup": false,
            "wait_interval": 0
          },
          "output_extras": [
            {
              "item_id": 1
            }
          ],
          "base_uri": "https://localhost:8080/",
          "height": 35
        },
        "outputId": "a312a807-525b-4c7c-fac6-d499e3b45f87",
        "executionInfo": {
          "status": "ok",
          "timestamp": 1521428254405,
          "user_tz": -480,
          "elapsed": 787,
          "user": {
            "displayName": "Huang Wenchen",
            "photoUrl": "https://lh3.googleusercontent.com/a/default-user=s128",
            "userId": "111410864166566797989"
          }
        }
      },
      "cell_type": "code",
      "source": [
        "!pwd"
      ],
      "execution_count": 22,
      "outputs": [
        {
          "output_type": "stream",
          "text": [
            "/content\r\n"
          ],
          "name": "stdout"
        }
      ]
    },
    {
      "metadata": {
        "id": "uMiGncYiMMtf",
        "colab_type": "code",
        "colab": {
          "autoexec": {
            "startup": false,
            "wait_interval": 0
          },
          "output_extras": [
            {
              "item_id": 1
            }
          ],
          "base_uri": "https://localhost:8080/",
          "height": 35
        },
        "outputId": "66e9e456-efa4-43c3-ceec-4ace30963bad",
        "executionInfo": {
          "status": "ok",
          "timestamp": 1521428272420,
          "user_tz": -480,
          "elapsed": 816,
          "user": {
            "displayName": "Huang Wenchen",
            "photoUrl": "https://lh3.googleusercontent.com/a/default-user=s128",
            "userId": "111410864166566797989"
          }
        }
      },
      "cell_type": "code",
      "source": [
        "!ls"
      ],
      "execution_count": 23,
      "outputs": [
        {
          "output_type": "stream",
          "text": [
            "datalab  drive\r\n"
          ],
          "name": "stdout"
        }
      ]
    },
    {
      "metadata": {
        "id": "v5PT1AheMRGv",
        "colab_type": "code",
        "colab": {
          "autoexec": {
            "startup": false,
            "wait_interval": 0
          },
          "output_extras": [
            {
              "item_id": 2
            }
          ],
          "base_uri": "https://localhost:8080/",
          "height": 435
        },
        "outputId": "a94d952e-f053-4920-c9b8-5a04dcb31bb0",
        "executionInfo": {
          "status": "ok",
          "timestamp": 1521428319442,
          "user_tz": -480,
          "elapsed": 21083,
          "user": {
            "displayName": "Huang Wenchen",
            "photoUrl": "https://lh3.googleusercontent.com/a/default-user=s128",
            "userId": "111410864166566797989"
          }
        }
      },
      "cell_type": "code",
      "source": [
        "!more drive/mnist_cnn.py"
      ],
      "execution_count": 24,
      "outputs": [
        {
          "output_type": "stream",
          "text": [
            "'''Trains a simple convnet on the MNIST dataset.\r\n",
            "\r\n",
            "Gets to 99.25% test accuracy after 12 epochs\r\n",
            "(there is still a lot of margin for parameter tuning).\r\n",
            "16 seconds per epoch on a GRID K520 GPU.\r\n",
            "'''\r\n",
            "\r\n",
            "from __future__ import print_function\r\n",
            "import keras\r\n",
            "from keras.datasets import mnist\r\n",
            "from keras.models import Sequential\r\n",
            "from keras.layers import Dense, Dropout, Flatten\r\n",
            "from keras.layers import Conv2D, MaxPooling2D\r\n",
            "from keras import backend as K\r\n",
            "\r\n",
            "batch_size = 128\r\n",
            "num_classes = 10\r\n",
            "epochs = 12\r\n",
            "\r\n",
            "# input image dimensions\r\n",
            "img_rows, img_cols = 28, 28\r\n",
            "\r\n",
            "# the data, split between train and test sets\n",
            "\u001b[K"
          ],
          "name": "stdout"
        }
      ]
    },
    {
      "metadata": {
        "id": "lOhAAVmGMXou",
        "colab_type": "code",
        "colab": {
          "autoexec": {
            "startup": false,
            "wait_interval": 0
          },
          "output_extras": [
            {
              "item_id": 27
            },
            {
              "item_id": 141
            },
            {
              "item_id": 232
            },
            {
              "item_id": 351
            },
            {
              "item_id": 444
            },
            {
              "item_id": 526
            }
          ],
          "base_uri": "https://localhost:8080/",
          "height": 801
        },
        "outputId": "95776e9c-7fff-48b6-cb3e-03da8457beea",
        "executionInfo": {
          "status": "ok",
          "timestamp": 1521428512090,
          "user_tz": -480,
          "elapsed": 144557,
          "user": {
            "displayName": "Huang Wenchen",
            "photoUrl": "https://lh3.googleusercontent.com/a/default-user=s128",
            "userId": "111410864166566797989"
          }
        }
      },
      "cell_type": "code",
      "source": [
        "!python3 drive/mnist_cnn.py"
      ],
      "execution_count": 25,
      "outputs": [
        {
          "output_type": "stream",
          "text": [
            "/usr/local/lib/python3.6/dist-packages/h5py/__init__.py:36: FutureWarning: Conversion of the second argument of issubdtype from `float` to `np.floating` is deprecated. In future, it will be treated as `np.float64 == np.dtype(float).type`.\r\n",
            "  from ._conv import register_converters as _register_converters\n",
            "Using TensorFlow backend.\n",
            "Downloading data from https://s3.amazonaws.com/img-datasets/mnist.npz\n",
            "11493376/11490434 [==============================] - 1s 0us/step\n",
            "x_train shape: (60000, 28, 28, 1)\n",
            "60000 train samples\n",
            "10000 test samples\n",
            "Train on 60000 samples, validate on 10000 samples\n",
            "Epoch 1/12\n",
            "2018-03-19 03:01:54.517877: I tensorflow/stream_executor/cuda/cuda_gpu_executor.cc:898] successful NUMA node read from SysFS had negative value (-1), but there must be at least one NUMA node, so returning NUMA node zero\n",
            "2018-03-19 03:01:54.518406: I tensorflow/core/common_runtime/gpu/gpu_device.cc:1212] Found device 0 with properties: \n",
            "name: Tesla K80 major: 3 minor: 7 memoryClockRate(GHz): 0.8235\n",
            "pciBusID: 0000:00:04.0\n",
            "totalMemory: 11.17GiB freeMemory: 11.11GiB\n",
            "2018-03-19 03:01:54.518438: I tensorflow/core/common_runtime/gpu/gpu_device.cc:1312] Adding visible gpu devices: 0\n",
            "2018-03-19 03:01:54.801179: I tensorflow/core/common_runtime/gpu/gpu_device.cc:993] Creating TensorFlow device (/job:localhost/replica:0/task:0/device:GPU:0 with 10774 MB memory) -> physical GPU (device: 0, name: Tesla K80, pci bus id: 0000:00:04.0, compute capability: 3.7)\n",
            "20352/60000 [=========>....................] - ETA: 10s - loss: 0.5013 - acc: 0.8406"
          ],
          "name": "stdout"
        },
        {
          "output_type": "stream",
          "text": [
            "60000/60000 [==============================] - 13s 215us/step - loss: 0.2685 - acc: 0.9166 - val_loss: 0.0562 - val_acc: 0.9825\n",
            "Epoch 2/12\n",
            "60000/60000 [==============================] - 11s 184us/step - loss: 0.0892 - acc: 0.9727 - val_loss: 0.0460 - val_acc: 0.9854\n",
            "Epoch 3/12\n",
            "57856/60000 [===========================>..] - ETA: 0s - loss: 0.0686 - acc: 0.9794"
          ],
          "name": "stdout"
        },
        {
          "output_type": "stream",
          "text": [
            "60000/60000 [==============================] - 11s 183us/step - loss: 0.0682 - acc: 0.9794 - val_loss: 0.0347 - val_acc: 0.9873\n",
            "Epoch 4/12\n",
            "60000/60000 [==============================] - 11s 182us/step - loss: 0.0541 - acc: 0.9837 - val_loss: 0.0349 - val_acc: 0.9884\n",
            "Epoch 5/12\n",
            "60000/60000 [==============================] - 11s 183us/step - loss: 0.0484 - acc: 0.9848 - val_loss: 0.0328 - val_acc: 0.9885\n",
            "Epoch 6/12\n",
            " 3584/60000 [>.............................] - ETA: 9s - loss: 0.0431 - acc: 0.9883 "
          ],
          "name": "stdout"
        },
        {
          "output_type": "stream",
          "text": [
            "60000/60000 [==============================] - 11s 182us/step - loss: 0.0445 - acc: 0.9863 - val_loss: 0.0303 - val_acc: 0.9897\n",
            "Epoch 7/12\n",
            "60000/60000 [==============================] - 11s 182us/step - loss: 0.0389 - acc: 0.9881 - val_loss: 0.0293 - val_acc: 0.9898\n",
            "Epoch 8/12\n",
            "53760/60000 [=========================>....] - ETA: 1s - loss: 0.0360 - acc: 0.9886"
          ],
          "name": "stdout"
        },
        {
          "output_type": "stream",
          "text": [
            "60000/60000 [==============================] - 11s 182us/step - loss: 0.0357 - acc: 0.9888 - val_loss: 0.0284 - val_acc: 0.9908\n",
            "Epoch 9/12\n",
            "60000/60000 [==============================] - 11s 181us/step - loss: 0.0333 - acc: 0.9897 - val_loss: 0.0269 - val_acc: 0.9916\n",
            "Epoch 10/12\n",
            "60000/60000 [==============================] - 11s 182us/step - loss: 0.0316 - acc: 0.9904 - val_loss: 0.0268 - val_acc: 0.9911\n",
            "Epoch 11/12\n",
            " 3200/60000 [>.............................] - ETA: 9s - loss: 0.0274 - acc: 0.9916"
          ],
          "name": "stdout"
        },
        {
          "output_type": "stream",
          "text": [
            "60000/60000 [==============================] - 11s 181us/step - loss: 0.0304 - acc: 0.9907 - val_loss: 0.0281 - val_acc: 0.9913\n",
            "Epoch 12/12\n",
            "60000/60000 [==============================] - 11s 181us/step - loss: 0.0288 - acc: 0.9907 - val_loss: 0.0280 - val_acc: 0.9913\n",
            "Test loss: 0.02801495582696616\n",
            "Test accuracy: 0.9913\n"
          ],
          "name": "stdout"
        }
      ]
    },
    {
      "metadata": {
        "id": "qxo2HfdtMohf",
        "colab_type": "code",
        "colab": {
          "autoexec": {
            "startup": false,
            "wait_interval": 0
          }
        }
      },
      "cell_type": "code",
      "source": [
        ""
      ],
      "execution_count": 0,
      "outputs": []
    }
  ]
}