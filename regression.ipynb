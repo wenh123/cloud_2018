{
  "nbformat": 4,
  "nbformat_minor": 0,
  "metadata": {
    "colab": {
      "name": "regression.ipynb",
      "version": "0.3.2",
      "views": {},
      "default_view": {},
      "provenance": []
    },
    "kernelspec": {
      "name": "python3",
      "display_name": "Python 3"
    }
  },
  "cells": [
    {
      "metadata": {
        "id": "VaIZXxut6d0S",
        "colab_type": "code",
        "colab": {
          "autoexec": {
            "startup": false,
            "wait_interval": 0
          }
        }
      },
      "cell_type": "code",
      "source": [
        "from numpy.random import rand\n",
        "x = rand(40,1) # explanatory variable\n",
        "y = x*x*x+rand(40,1)/5 # depentend variable"
      ],
      "execution_count": 0,
      "outputs": []
    },
    {
      "metadata": {
        "id": "M5J3HM5x6qmB",
        "colab_type": "code",
        "colab": {
          "autoexec": {
            "startup": false,
            "wait_interval": 0
          },
          "output_extras": [
            {
              "item_id": 1
            }
          ],
          "base_uri": "https://localhost:8080/",
          "height": 1371
        },
        "outputId": "6ced89b9-9032-4c66-a358-477274de59d6",
        "executionInfo": {
          "status": "ok",
          "timestamp": 1521809549862,
          "user_tz": -480,
          "elapsed": 568,
          "user": {
            "displayName": "Huang Wenchen",
            "photoUrl": "https://lh3.googleusercontent.com/a/default-user=s128",
            "userId": "111410864166566797989"
          }
        }
      },
      "cell_type": "code",
      "source": [
        "print(x,y)"
      ],
      "execution_count": 2,
      "outputs": [
        {
          "output_type": "stream",
          "text": [
            "[[0.19974333]\n",
            " [0.74215954]\n",
            " [0.7615577 ]\n",
            " [0.09421863]\n",
            " [0.31246105]\n",
            " [0.83839445]\n",
            " [0.00303218]\n",
            " [0.54493024]\n",
            " [0.84949518]\n",
            " [0.49973291]\n",
            " [0.25291285]\n",
            " [0.71161152]\n",
            " [0.19582164]\n",
            " [0.77786217]\n",
            " [0.66894167]\n",
            " [0.96733234]\n",
            " [0.24383808]\n",
            " [0.15318501]\n",
            " [0.74437663]\n",
            " [0.73849858]\n",
            " [0.7839006 ]\n",
            " [0.35937828]\n",
            " [0.07162159]\n",
            " [0.00202859]\n",
            " [0.14683827]\n",
            " [0.33614297]\n",
            " [0.53213379]\n",
            " [0.86274122]\n",
            " [0.24481295]\n",
            " [0.66759919]\n",
            " [0.37636902]\n",
            " [0.65284387]\n",
            " [0.80642657]\n",
            " [0.85188513]\n",
            " [0.32643597]\n",
            " [0.94920081]\n",
            " [0.10283827]\n",
            " [0.74747763]\n",
            " [0.04650484]\n",
            " [0.07073948]] [[0.10747505]\n",
            " [0.45917071]\n",
            " [0.52088057]\n",
            " [0.05880025]\n",
            " [0.20293469]\n",
            " [0.64616618]\n",
            " [0.06665015]\n",
            " [0.20391114]\n",
            " [0.69801616]\n",
            " [0.21177398]\n",
            " [0.15601955]\n",
            " [0.55461234]\n",
            " [0.17935279]\n",
            " [0.5010607 ]\n",
            " [0.3101276 ]\n",
            " [0.91822058]\n",
            " [0.14150448]\n",
            " [0.01616497]\n",
            " [0.42072438]\n",
            " [0.54623565]\n",
            " [0.52252577]\n",
            " [0.18347407]\n",
            " [0.08235796]\n",
            " [0.08856508]\n",
            " [0.14975791]\n",
            " [0.09186537]\n",
            " [0.22229846]\n",
            " [0.71632234]\n",
            " [0.09635336]\n",
            " [0.43058138]\n",
            " [0.20046197]\n",
            " [0.32392689]\n",
            " [0.69405582]\n",
            " [0.65677812]\n",
            " [0.11966325]\n",
            " [1.04405299]\n",
            " [0.03250547]\n",
            " [0.55738218]\n",
            " [0.02577241]\n",
            " [0.04989591]]\n"
          ],
          "name": "stdout"
        }
      ]
    },
    {
      "metadata": {
        "id": "qRR7l4eS6uew",
        "colab_type": "code",
        "colab": {
          "autoexec": {
            "startup": false,
            "wait_interval": 0
          },
          "output_extras": [
            {
              "item_id": 1
            }
          ],
          "base_uri": "https://localhost:8080/",
          "height": 703
        },
        "outputId": "981195f1-ab5e-4e8d-e43b-9946f9f1580f",
        "executionInfo": {
          "status": "ok",
          "timestamp": 1521809563235,
          "user_tz": -480,
          "elapsed": 583,
          "user": {
            "displayName": "Huang Wenchen",
            "photoUrl": "https://lh3.googleusercontent.com/a/default-user=s128",
            "userId": "111410864166566797989"
          }
        }
      },
      "cell_type": "code",
      "source": [
        "print(x)"
      ],
      "execution_count": 3,
      "outputs": [
        {
          "output_type": "stream",
          "text": [
            "[[0.19974333]\n",
            " [0.74215954]\n",
            " [0.7615577 ]\n",
            " [0.09421863]\n",
            " [0.31246105]\n",
            " [0.83839445]\n",
            " [0.00303218]\n",
            " [0.54493024]\n",
            " [0.84949518]\n",
            " [0.49973291]\n",
            " [0.25291285]\n",
            " [0.71161152]\n",
            " [0.19582164]\n",
            " [0.77786217]\n",
            " [0.66894167]\n",
            " [0.96733234]\n",
            " [0.24383808]\n",
            " [0.15318501]\n",
            " [0.74437663]\n",
            " [0.73849858]\n",
            " [0.7839006 ]\n",
            " [0.35937828]\n",
            " [0.07162159]\n",
            " [0.00202859]\n",
            " [0.14683827]\n",
            " [0.33614297]\n",
            " [0.53213379]\n",
            " [0.86274122]\n",
            " [0.24481295]\n",
            " [0.66759919]\n",
            " [0.37636902]\n",
            " [0.65284387]\n",
            " [0.80642657]\n",
            " [0.85188513]\n",
            " [0.32643597]\n",
            " [0.94920081]\n",
            " [0.10283827]\n",
            " [0.74747763]\n",
            " [0.04650484]\n",
            " [0.07073948]]\n"
          ],
          "name": "stdout"
        }
      ]
    },
    {
      "metadata": {
        "id": "YBHOYKxD6xvX",
        "colab_type": "code",
        "colab": {
          "autoexec": {
            "startup": false,
            "wait_interval": 0
          },
          "output_extras": [
            {
              "item_id": 1
            }
          ],
          "base_uri": "https://localhost:8080/",
          "height": 703
        },
        "outputId": "e9527bda-f945-4f2a-e892-eb357b915164",
        "executionInfo": {
          "status": "ok",
          "timestamp": 1521809580174,
          "user_tz": -480,
          "elapsed": 557,
          "user": {
            "displayName": "Huang Wenchen",
            "photoUrl": "https://lh3.googleusercontent.com/a/default-user=s128",
            "userId": "111410864166566797989"
          }
        }
      },
      "cell_type": "code",
      "source": [
        "print(y)"
      ],
      "execution_count": 4,
      "outputs": [
        {
          "output_type": "stream",
          "text": [
            "[[0.10747505]\n",
            " [0.45917071]\n",
            " [0.52088057]\n",
            " [0.05880025]\n",
            " [0.20293469]\n",
            " [0.64616618]\n",
            " [0.06665015]\n",
            " [0.20391114]\n",
            " [0.69801616]\n",
            " [0.21177398]\n",
            " [0.15601955]\n",
            " [0.55461234]\n",
            " [0.17935279]\n",
            " [0.5010607 ]\n",
            " [0.3101276 ]\n",
            " [0.91822058]\n",
            " [0.14150448]\n",
            " [0.01616497]\n",
            " [0.42072438]\n",
            " [0.54623565]\n",
            " [0.52252577]\n",
            " [0.18347407]\n",
            " [0.08235796]\n",
            " [0.08856508]\n",
            " [0.14975791]\n",
            " [0.09186537]\n",
            " [0.22229846]\n",
            " [0.71632234]\n",
            " [0.09635336]\n",
            " [0.43058138]\n",
            " [0.20046197]\n",
            " [0.32392689]\n",
            " [0.69405582]\n",
            " [0.65677812]\n",
            " [0.11966325]\n",
            " [1.04405299]\n",
            " [0.03250547]\n",
            " [0.55738218]\n",
            " [0.02577241]\n",
            " [0.04989591]]\n"
          ],
          "name": "stdout"
        }
      ]
    },
    {
      "metadata": {
        "id": "f4EercFq614c",
        "colab_type": "code",
        "colab": {
          "autoexec": {
            "startup": false,
            "wait_interval": 0
          },
          "output_extras": [
            {
              "item_id": 1
            }
          ],
          "base_uri": "https://localhost:8080/",
          "height": 54
        },
        "outputId": "c9f0738d-26a5-4e6a-9d12-09b0e3c306aa",
        "executionInfo": {
          "status": "ok",
          "timestamp": 1521809641902,
          "user_tz": -480,
          "elapsed": 644,
          "user": {
            "displayName": "Huang Wenchen",
            "photoUrl": "https://lh3.googleusercontent.com/a/default-user=s128",
            "userId": "111410864166566797989"
          }
        }
      },
      "cell_type": "code",
      "source": [
        "from sklearn.linear_model import LinearRegression\n",
        "linreg = LinearRegression()\n",
        "linreg.fit(x,y)"
      ],
      "execution_count": 6,
      "outputs": [
        {
          "output_type": "execute_result",
          "data": {
            "text/plain": [
              "LinearRegression(copy_X=True, fit_intercept=True, n_jobs=1, normalize=False)"
            ]
          },
          "metadata": {
            "tags": []
          },
          "execution_count": 6
        }
      ]
    },
    {
      "metadata": {
        "id": "jxnz9iKh7B-Z",
        "colab_type": "code",
        "colab": {
          "autoexec": {
            "startup": false,
            "wait_interval": 0
          },
          "output_extras": [
            {
              "item_id": 1
            }
          ],
          "base_uri": "https://localhost:8080/",
          "height": 347
        },
        "outputId": "918e3b16-c771-474c-a403-e9c01853279a",
        "executionInfo": {
          "status": "ok",
          "timestamp": 1521809993509,
          "user_tz": -480,
          "elapsed": 923,
          "user": {
            "displayName": "Huang Wenchen",
            "photoUrl": "https://lh3.googleusercontent.com/a/default-user=s128",
            "userId": "111410864166566797989"
          }
        }
      },
      "cell_type": "code",
      "source": [
        "from numpy import linspace, matrix\n",
        "from pylab import plot, show\n",
        "xx = linspace(0,1,40)\n",
        "plot(x,y,'o',xx,linreg.predict(matrix(xx).T),'--r')\n",
        "show()"
      ],
      "execution_count": 8,
      "outputs": [
        {
          "output_type": "display_data",
          "data": {
            "image/png": "[encoded data removed]",
            "text/plain": [
              "<matplotlib.figure.Figure at 0x7fa71746ab70>"
            ]
          },
          "metadata": {
            "tags": []
          }
        }
      ]
    },
    {
      "metadata": {
        "id": "2qecysd-7uuH",
        "colab_type": "code",
        "colab": {
          "autoexec": {
            "startup": false,
            "wait_interval": 0
          },
          "output_extras": [
            {
              "item_id": 1
            }
          ],
          "base_uri": "https://localhost:8080/",
          "height": 34
        },
        "outputId": "19fe91fe-3236-4bea-9ef6-c141727c1408",
        "executionInfo": {
          "status": "ok",
          "timestamp": 1521810141660,
          "user_tz": -480,
          "elapsed": 601,
          "user": {
            "displayName": "Huang Wenchen",
            "photoUrl": "https://lh3.googleusercontent.com/a/default-user=s128",
            "userId": "111410864166566797989"
          }
        }
      },
      "cell_type": "code",
      "source": [
        "from sklearn.metrics import mean_squared_error\n",
        "print(mean_squared_error(linreg.predict(x),y))"
      ],
      "execution_count": 10,
      "outputs": [
        {
          "output_type": "stream",
          "text": [
            "0.010624393686935846\n"
          ],
          "name": "stdout"
        }
      ]
    },
    {
      "metadata": {
        "id": "5DJHhJFO85E_",
        "colab_type": "code",
        "colab": {
          "autoexec": {
            "startup": false,
            "wait_interval": 0
          }
        }
      },
      "cell_type": "code",
      "source": [
        ""
      ],
      "execution_count": 0,
      "outputs": []
    }
  ]
}